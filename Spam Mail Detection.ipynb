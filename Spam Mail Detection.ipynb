{
 "cells": [
  {
   "cell_type": "code",
   "execution_count": 1,
   "id": "97c673d3-b2e5-435b-89ea-6b1bfb73e314",
   "metadata": {},
   "outputs": [],
   "source": [
    "#importing the dependencies\n",
    "import numpy as np\n",
    "import pandas as pd\n",
    "from sklearn.model_selection import train_test_split\n",
    "#text to feature vector\n",
    "from sklearn.feature_extraction.text import TfidfVectorizer\n",
    "from sklearn.linear_model import LogisticRegression\n",
    "from sklearn.metrics import accuracy_score"
   ]
  },
  {
   "cell_type": "code",
   "execution_count": 2,
   "id": "a6015546-f196-4163-a763-acee3f98a851",
   "metadata": {},
   "outputs": [],
   "source": [
    "#Data collection and preprocessing\n",
    "#csv to pandas data frame\n",
    "data = pd.read_csv('D:\\\\Projects\\\\Machine Learning\\\\Spam Mail Detection\\\\mail_data.csv')"
   ]
  },
  {
   "cell_type": "code",
   "execution_count": 3,
   "id": "d63af542-94c9-41f2-a2d1-dc3c9024a9f4",
   "metadata": {},
   "outputs": [
    {
     "name": "stdout",
     "output_type": "stream",
     "text": [
      "      Category                                            Message\n",
      "0          ham  Go until jurong point, crazy.. Available only ...\n",
      "1          ham                      Ok lar... Joking wif u oni...\n",
      "2         spam  Free entry in 2 a wkly comp to win FA Cup fina...\n",
      "3          ham  U dun say so early hor... U c already then say...\n",
      "4          ham  Nah I don't think he goes to usf, he lives aro...\n",
      "...        ...                                                ...\n",
      "10738      ham  Subject: put the 10 on the ft\\r\\nthe transport...\n",
      "10739      ham  Subject: 3 / 4 / 2000 and following noms\\r\\nhp...\n",
      "10740      ham  Subject: calpine daily gas nomination\\r\\n>\\r\\n...\n",
      "10741      ham  Subject: industrial worksheets for august 2000...\n",
      "10742     spam  Subject: important online banking alert\\r\\ndea...\n",
      "\n",
      "[10743 rows x 2 columns]\n"
     ]
    }
   ],
   "source": [
    "print (data)"
   ]
  },
  {
   "cell_type": "code",
   "execution_count": 4,
   "id": "eb06dcab-83a6-4027-a918-ef425a1a4347",
   "metadata": {},
   "outputs": [],
   "source": [
    "#replace the null value from null strings\n",
    "mail_data = data.where((pd.notnull(data)),'')"
   ]
  },
  {
   "cell_type": "code",
   "execution_count": 5,
   "id": "86595d06-4ae7-4984-8967-af0b75fd941e",
   "metadata": {},
   "outputs": [
    {
     "data": {
      "text/html": [
       "<div>\n",
       "<style scoped>\n",
       "    .dataframe tbody tr th:only-of-type {\n",
       "        vertical-align: middle;\n",
       "    }\n",
       "\n",
       "    .dataframe tbody tr th {\n",
       "        vertical-align: top;\n",
       "    }\n",
       "\n",
       "    .dataframe thead th {\n",
       "        text-align: right;\n",
       "    }\n",
       "</style>\n",
       "<table border=\"1\" class=\"dataframe\">\n",
       "  <thead>\n",
       "    <tr style=\"text-align: right;\">\n",
       "      <th></th>\n",
       "      <th>Category</th>\n",
       "      <th>Message</th>\n",
       "    </tr>\n",
       "  </thead>\n",
       "  <tbody>\n",
       "    <tr>\n",
       "      <th>0</th>\n",
       "      <td>ham</td>\n",
       "      <td>Go until jurong point, crazy.. Available only ...</td>\n",
       "    </tr>\n",
       "    <tr>\n",
       "      <th>1</th>\n",
       "      <td>ham</td>\n",
       "      <td>Ok lar... Joking wif u oni...</td>\n",
       "    </tr>\n",
       "    <tr>\n",
       "      <th>2</th>\n",
       "      <td>spam</td>\n",
       "      <td>Free entry in 2 a wkly comp to win FA Cup fina...</td>\n",
       "    </tr>\n",
       "    <tr>\n",
       "      <th>3</th>\n",
       "      <td>ham</td>\n",
       "      <td>U dun say so early hor... U c already then say...</td>\n",
       "    </tr>\n",
       "    <tr>\n",
       "      <th>4</th>\n",
       "      <td>ham</td>\n",
       "      <td>Nah I don't think he goes to usf, he lives aro...</td>\n",
       "    </tr>\n",
       "  </tbody>\n",
       "</table>\n",
       "</div>"
      ],
      "text/plain": [
       "  Category                                            Message\n",
       "0      ham  Go until jurong point, crazy.. Available only ...\n",
       "1      ham                      Ok lar... Joking wif u oni...\n",
       "2     spam  Free entry in 2 a wkly comp to win FA Cup fina...\n",
       "3      ham  U dun say so early hor... U c already then say...\n",
       "4      ham  Nah I don't think he goes to usf, he lives aro..."
      ]
     },
     "execution_count": 5,
     "metadata": {},
     "output_type": "execute_result"
    }
   ],
   "source": [
    "#printing first five rows to view the sample of the data we have\n",
    "mail_data.head()"
   ]
  },
  {
   "cell_type": "code",
   "execution_count": 6,
   "id": "6830fac9-2055-401c-88f2-b9a17f0f9133",
   "metadata": {},
   "outputs": [
    {
     "data": {
      "text/plain": [
       "(10743, 2)"
      ]
     },
     "execution_count": 6,
     "metadata": {},
     "output_type": "execute_result"
    }
   ],
   "source": [
    "#checking the number of rows and columns\n",
    "mail_data.shape"
   ]
  },
  {
   "cell_type": "code",
   "execution_count": 7,
   "id": "ac47c5c6-1bbe-4aa6-8283-f71ef357a8f2",
   "metadata": {},
   "outputs": [],
   "source": [
    "#encoding the labels that is the ham as 1 and spam as 0\n",
    "mail_data.loc[mail_data['Category']=='spam','Category'] = 0\n",
    "mail_data.loc[mail_data['Category']=='ham','Category'] = 1"
   ]
  },
  {
   "cell_type": "code",
   "execution_count": null,
   "id": "1e3f00f8-cd09-425c-bb62-ca635d2585cb",
   "metadata": {},
   "outputs": [],
   "source": []
  },
  {
   "cell_type": "code",
   "execution_count": 8,
   "id": "11fe9a4a-3cec-40e9-897c-ccb49ffb5153",
   "metadata": {},
   "outputs": [],
   "source": [
    "# sapm are 0 and ham ar 1\n",
    "#slpiting the data into text and labels\n",
    "#taking input as message(x) and output as y\n",
    "\n",
    "X = mail_data['Message']\n",
    "Y = mail_data['Category']"
   ]
  },
  {
   "cell_type": "code",
   "execution_count": 9,
   "id": "d5b814ac-41ca-47e2-8886-fd735012d9be",
   "metadata": {},
   "outputs": [
    {
     "name": "stdout",
     "output_type": "stream",
     "text": [
      "0        Go until jurong point, crazy.. Available only ...\n",
      "1                            Ok lar... Joking wif u oni...\n",
      "2        Free entry in 2 a wkly comp to win FA Cup fina...\n",
      "3        U dun say so early hor... U c already then say...\n",
      "4        Nah I don't think he goes to usf, he lives aro...\n",
      "                               ...                        \n",
      "10738    Subject: put the 10 on the ft\\r\\nthe transport...\n",
      "10739    Subject: 3 / 4 / 2000 and following noms\\r\\nhp...\n",
      "10740    Subject: calpine daily gas nomination\\r\\n>\\r\\n...\n",
      "10741    Subject: industrial worksheets for august 2000...\n",
      "10742    Subject: important online banking alert\\r\\ndea...\n",
      "Name: Message, Length: 10743, dtype: object\n"
     ]
    }
   ],
   "source": [
    "print(X)\n"
   ]
  },
  {
   "cell_type": "code",
   "execution_count": 10,
   "id": "b3f7f7c4-555b-471c-ae11-a0808674defb",
   "metadata": {},
   "outputs": [
    {
     "name": "stdout",
     "output_type": "stream",
     "text": [
      "0        1\n",
      "1        1\n",
      "2        0\n",
      "3        1\n",
      "4        1\n",
      "        ..\n",
      "10738    1\n",
      "10739    1\n",
      "10740    1\n",
      "10741    1\n",
      "10742    0\n",
      "Name: Category, Length: 10743, dtype: object\n"
     ]
    }
   ],
   "source": [
    "print(Y)"
   ]
  },
  {
   "cell_type": "code",
   "execution_count": 11,
   "id": "49078bd3-7496-47cb-906e-eb4b197cb94d",
   "metadata": {},
   "outputs": [],
   "source": [
    "# Splitting the data into training data and test data\n",
    "\n",
    "X_train,X_test,Y_train,Y_test = train_test_split(X,Y,test_size=0.2,random_state = 4)"
   ]
  },
  {
   "cell_type": "code",
   "execution_count": 12,
   "id": "42f59dc6-990b-451a-97c2-9c2e5bc86477",
   "metadata": {},
   "outputs": [
    {
     "name": "stdout",
     "output_type": "stream",
     "text": [
      "(10743,)\n",
      "(8594,)\n",
      "(2149,)\n"
     ]
    }
   ],
   "source": [
    "print(X.shape)\n",
    "print(X_train.shape)\n",
    "print(X_test.shape)"
   ]
  },
  {
   "cell_type": "raw",
   "id": "bb9b06e7-70b8-4245-a40b-9cdd6ac7094b",
   "metadata": {},
   "source": [
    "Feature Extraction\n",
    "tranforsm the text data into feature vector(numerical values) so LogRegg can understand it\n"
   ]
  },
  {
   "cell_type": "code",
   "execution_count": 13,
   "id": "5204db6a-255a-4132-828b-53b119c115e0",
   "metadata": {},
   "outputs": [],
   "source": [
    "feature_extraction = TfidfVectorizer(min_df =1, stop_words='english',lowercase = True) \n",
    "X_train_features = feature_extraction.fit_transform(X_train)\n",
    "X_test_features = feature_extraction.transform(X_test)\n",
    "\n",
    "#converting y train and y test values as integers\n",
    "Y_train = Y_train.astype('int')\n",
    "Y_test = Y_test.astype('int')"
   ]
  },
  {
   "cell_type": "code",
   "execution_count": 14,
   "id": "e8805853-07db-4beb-a641-2f6bda63fd26",
   "metadata": {},
   "outputs": [
    {
     "name": "stdout",
     "output_type": "stream",
     "text": [
      "7336     Subject: fw : revised : gas logistics netco re...\n",
      "3511     I just saw ron burgundy captaining a party boa...\n",
      "1127     Not tonight mate. Catching up on some sleep. T...\n",
      "1178                            Just nw i came to hme da..\n",
      "3057                              Webpage s not available!\n",
      "                               ...                        \n",
      "6017     Subject: goat % rdn _ word wheresoever\\r\\ninve...\n",
      "709      To review and KEEP the fantastic Nokia N-Gage ...\n",
      "10679    Subject: special promotion - get a las vegas v...\n",
      "8366     Subject: info\\r\\nneh b 27 q 71 tojlmjuob 2 wj ...\n",
      "1146     Thank you, winner notified by sms. Good Luck! ...\n",
      "Name: Message, Length: 8594, dtype: object\n"
     ]
    }
   ],
   "source": [
    "print(X_train)"
   ]
  },
  {
   "cell_type": "code",
   "execution_count": 15,
   "id": "82223986-bd7b-4faa-bfe9-f50480d2b6c1",
   "metadata": {},
   "outputs": [
    {
     "name": "stdout",
     "output_type": "stream",
     "text": [
      "  (0, 5298)\t0.07913618892190016\n",
      "  (0, 37812)\t0.10054727903309521\n",
      "  (0, 13596)\t0.058632116658492134\n",
      "  (0, 34569)\t0.07112473409930432\n",
      "  (0, 7506)\t0.04937728199057548\n",
      "  (0, 37689)\t0.07961878987009147\n",
      "  (0, 10733)\t0.11191432721482159\n",
      "  (0, 11373)\t0.04450669693259767\n",
      "  (0, 28519)\t0.2156381360562637\n",
      "  (0, 26901)\t0.10905770670285507\n",
      "  (0, 2213)\t0.07836652231487516\n",
      "  (0, 474)\t0.04666179255895615\n",
      "  (0, 1271)\t0.09217992155843856\n",
      "  (0, 209)\t0.06000763489347967\n",
      "  (0, 25817)\t0.0662835378736576\n",
      "  (0, 44534)\t0.07244551590205553\n",
      "  (0, 39629)\t0.055697382295382514\n",
      "  (0, 38327)\t0.062479798046863336\n",
      "  (0, 42269)\t0.1773810279994227\n",
      "  (0, 29948)\t0.055129684977550227\n",
      "  (0, 33054)\t0.06344441627549591\n",
      "  (0, 9473)\t0.12206810314027552\n",
      "  (0, 7229)\t0.08444135748075131\n",
      "  (0, 38673)\t0.08667406724528615\n",
      "  (0, 34572)\t0.09178988717154238\n",
      "  :\t:\n",
      "  (8592, 2179)\t0.06047555245281106\n",
      "  (8592, 1344)\t0.04723642110448271\n",
      "  (8592, 2968)\t0.12762887499251446\n",
      "  (8592, 1846)\t0.09447284220896542\n",
      "  (8592, 1453)\t0.05114360770442875\n",
      "  (8592, 2696)\t0.047929694947531555\n",
      "  (8592, 575)\t0.04075598903880165\n",
      "  (8592, 1614)\t0.05119150743224416\n",
      "  (8592, 1491)\t0.048182956815117015\n",
      "  (8592, 209)\t0.04674350574449878\n",
      "  (8592, 42044)\t0.01922382265478059\n",
      "  (8593, 233)\t0.40939647436332816\n",
      "  (8593, 3991)\t0.40939647436332816\n",
      "  (8593, 47115)\t0.30263683099508365\n",
      "  (8593, 28664)\t0.2795539972674565\n",
      "  (8593, 32104)\t0.28555131975700543\n",
      "  (8593, 37638)\t0.19747606886942096\n",
      "  (8593, 21802)\t0.1806180268648473\n",
      "  (8593, 20826)\t0.21494334590296302\n",
      "  (8593, 43306)\t0.1908113760773666\n",
      "  (8593, 29277)\t0.23190677226721024\n",
      "  (8593, 39706)\t0.21245904641184815\n",
      "  (8593, 40708)\t0.2752860336903275\n",
      "  (8593, 14597)\t0.21443506220230393\n",
      "  (8593, 41792)\t0.19645946710293766\n"
     ]
    }
   ],
   "source": [
    "print(X_train_features)"
   ]
  },
  {
   "cell_type": "code",
   "execution_count": 16,
   "id": "2108e958-02c1-46c4-8136-7ea02ecad3b7",
   "metadata": {},
   "outputs": [
    {
     "name": "stdout",
     "output_type": "stream",
     "text": [
      "7336     1\n",
      "3511     1\n",
      "1127     1\n",
      "1178     1\n",
      "3057     1\n",
      "        ..\n",
      "6017     0\n",
      "709      0\n",
      "10679    0\n",
      "8366     0\n",
      "1146     0\n",
      "Name: Category, Length: 8594, dtype: int32\n"
     ]
    }
   ],
   "source": [
    "print(Y_train)\n"
   ]
  },
  {
   "cell_type": "code",
   "execution_count": 17,
   "id": "db6ad832-0721-44ef-8e40-7deb8487cbff",
   "metadata": {},
   "outputs": [],
   "source": [
    "#Logistic Regression\n",
    "\n",
    "model = LogisticRegression()"
   ]
  },
  {
   "cell_type": "code",
   "execution_count": 18,
   "id": "12e01145-89db-48ba-9c22-c9c2254afd24",
   "metadata": {},
   "outputs": [
    {
     "data": {
      "text/html": [
       "<style>#sk-container-id-1 {color: black;background-color: white;}#sk-container-id-1 pre{padding: 0;}#sk-container-id-1 div.sk-toggleable {background-color: white;}#sk-container-id-1 label.sk-toggleable__label {cursor: pointer;display: block;width: 100%;margin-bottom: 0;padding: 0.3em;box-sizing: border-box;text-align: center;}#sk-container-id-1 label.sk-toggleable__label-arrow:before {content: \"▸\";float: left;margin-right: 0.25em;color: #696969;}#sk-container-id-1 label.sk-toggleable__label-arrow:hover:before {color: black;}#sk-container-id-1 div.sk-estimator:hover label.sk-toggleable__label-arrow:before {color: black;}#sk-container-id-1 div.sk-toggleable__content {max-height: 0;max-width: 0;overflow: hidden;text-align: left;background-color: #f0f8ff;}#sk-container-id-1 div.sk-toggleable__content pre {margin: 0.2em;color: black;border-radius: 0.25em;background-color: #f0f8ff;}#sk-container-id-1 input.sk-toggleable__control:checked~div.sk-toggleable__content {max-height: 200px;max-width: 100%;overflow: auto;}#sk-container-id-1 input.sk-toggleable__control:checked~label.sk-toggleable__label-arrow:before {content: \"▾\";}#sk-container-id-1 div.sk-estimator input.sk-toggleable__control:checked~label.sk-toggleable__label {background-color: #d4ebff;}#sk-container-id-1 div.sk-label input.sk-toggleable__control:checked~label.sk-toggleable__label {background-color: #d4ebff;}#sk-container-id-1 input.sk-hidden--visually {border: 0;clip: rect(1px 1px 1px 1px);clip: rect(1px, 1px, 1px, 1px);height: 1px;margin: -1px;overflow: hidden;padding: 0;position: absolute;width: 1px;}#sk-container-id-1 div.sk-estimator {font-family: monospace;background-color: #f0f8ff;border: 1px dotted black;border-radius: 0.25em;box-sizing: border-box;margin-bottom: 0.5em;}#sk-container-id-1 div.sk-estimator:hover {background-color: #d4ebff;}#sk-container-id-1 div.sk-parallel-item::after {content: \"\";width: 100%;border-bottom: 1px solid gray;flex-grow: 1;}#sk-container-id-1 div.sk-label:hover label.sk-toggleable__label {background-color: #d4ebff;}#sk-container-id-1 div.sk-serial::before {content: \"\";position: absolute;border-left: 1px solid gray;box-sizing: border-box;top: 0;bottom: 0;left: 50%;z-index: 0;}#sk-container-id-1 div.sk-serial {display: flex;flex-direction: column;align-items: center;background-color: white;padding-right: 0.2em;padding-left: 0.2em;position: relative;}#sk-container-id-1 div.sk-item {position: relative;z-index: 1;}#sk-container-id-1 div.sk-parallel {display: flex;align-items: stretch;justify-content: center;background-color: white;position: relative;}#sk-container-id-1 div.sk-item::before, #sk-container-id-1 div.sk-parallel-item::before {content: \"\";position: absolute;border-left: 1px solid gray;box-sizing: border-box;top: 0;bottom: 0;left: 50%;z-index: -1;}#sk-container-id-1 div.sk-parallel-item {display: flex;flex-direction: column;z-index: 1;position: relative;background-color: white;}#sk-container-id-1 div.sk-parallel-item:first-child::after {align-self: flex-end;width: 50%;}#sk-container-id-1 div.sk-parallel-item:last-child::after {align-self: flex-start;width: 50%;}#sk-container-id-1 div.sk-parallel-item:only-child::after {width: 0;}#sk-container-id-1 div.sk-dashed-wrapped {border: 1px dashed gray;margin: 0 0.4em 0.5em 0.4em;box-sizing: border-box;padding-bottom: 0.4em;background-color: white;}#sk-container-id-1 div.sk-label label {font-family: monospace;font-weight: bold;display: inline-block;line-height: 1.2em;}#sk-container-id-1 div.sk-label-container {text-align: center;}#sk-container-id-1 div.sk-container {/* jupyter's `normalize.less` sets `[hidden] { display: none; }` but bootstrap.min.css set `[hidden] { display: none !important; }` so we also need the `!important` here to be able to override the default hidden behavior on the sphinx rendered scikit-learn.org. See: https://github.com/scikit-learn/scikit-learn/issues/21755 */display: inline-block !important;position: relative;}#sk-container-id-1 div.sk-text-repr-fallback {display: none;}</style><div id=\"sk-container-id-1\" class=\"sk-top-container\"><div class=\"sk-text-repr-fallback\"><pre>LogisticRegression()</pre><b>In a Jupyter environment, please rerun this cell to show the HTML representation or trust the notebook. <br />On GitHub, the HTML representation is unable to render, please try loading this page with nbviewer.org.</b></div><div class=\"sk-container\" hidden><div class=\"sk-item\"><div class=\"sk-estimator sk-toggleable\"><input class=\"sk-toggleable__control sk-hidden--visually\" id=\"sk-estimator-id-1\" type=\"checkbox\" checked><label for=\"sk-estimator-id-1\" class=\"sk-toggleable__label sk-toggleable__label-arrow\">LogisticRegression</label><div class=\"sk-toggleable__content\"><pre>LogisticRegression()</pre></div></div></div></div></div>"
      ],
      "text/plain": [
       "LogisticRegression()"
      ]
     },
     "execution_count": 18,
     "metadata": {},
     "output_type": "execute_result"
    }
   ],
   "source": [
    "#training the logistic regressionmodel with the training daat\n",
    "\n",
    "model.fit(X_train_features, Y_train)"
   ]
  },
  {
   "cell_type": "code",
   "execution_count": 19,
   "id": "fe4636ac-bed9-494f-8369-83aff1bac98c",
   "metadata": {},
   "outputs": [],
   "source": [
    "# Prediction on training data\n",
    "predictTrain = model.predict(X_train_features)\n",
    "accuracy_on_trainigData = accuracy_score(Y_train,predictTrain)"
   ]
  },
  {
   "cell_type": "code",
   "execution_count": 20,
   "id": "bf05d4bd-4829-4bdb-bed2-ed515ac369bc",
   "metadata": {},
   "outputs": [
    {
     "name": "stdout",
     "output_type": "stream",
     "text": [
      "Accuracy on trining data =  0.9605538747963696\n"
     ]
    }
   ],
   "source": [
    "print('Accuracy on trining data = ',accuracy_on_trainigData)"
   ]
  },
  {
   "cell_type": "code",
   "execution_count": 21,
   "id": "69bdd6e5-a759-469b-966d-60547c5279c1",
   "metadata": {},
   "outputs": [],
   "source": [
    "#Checking the prediction with Test Data\n",
    "\n",
    "predictTest = model.predict(X_test_features)\n",
    "accuracy_on_testingData = accuracy_score(Y_test,predictTest)"
   ]
  },
  {
   "cell_type": "code",
   "execution_count": 22,
   "id": "acbb6d07-b412-4aeb-9bb8-65a9a698d01f",
   "metadata": {},
   "outputs": [
    {
     "name": "stdout",
     "output_type": "stream",
     "text": [
      "Accuracy on trining data =  0.946021405304793\n"
     ]
    }
   ],
   "source": [
    "print('Accuracy on trining data = ',accuracy_on_testingData)"
   ]
  },
  {
   "cell_type": "code",
   "execution_count": 23,
   "id": "0cde7e3d-f7f6-4f1f-ba18-2bfd0d6529c9",
   "metadata": {},
   "outputs": [],
   "source": [
    "#Therefore precition is very good"
   ]
  },
  {
   "cell_type": "code",
   "execution_count": 24,
   "id": "4f331f09-e9e7-46de-9121-c89ad45ec6ff",
   "metadata": {},
   "outputs": [
    {
     "name": "stdout",
     "output_type": "stream",
     "text": [
      "Ham Mail\n"
     ]
    }
   ],
   "source": [
    "#Building a Predictive system\n",
    "\n",
    "\n",
    "input_mail = [\"Cloud space meets ASUS Second Brain.Let AI make your work twice as efficient.Be the first to experience the three major features of xBrain.Natural language search.Interact with AI through natural language, enhancing search precision and work efficiency.Summarize document quickly.Fast summary of key information for selected documents, capture the essence of the files.Support multi-language document translation.Translate selected documents into Chinese or English, speeding up cross-language communication.Exclusive offer at US$4.5/month for ASUS members.3 Days Only!\"]\n",
    "\n",
    "#convert text to feature vector\n",
    "input_data_feature = feature_extraction.transform(input_mail)\n",
    "#making preciction\n",
    "\n",
    "prediction = model.predict(input_data_feature)\n",
    "\n",
    "\n",
    "\n",
    "if (prediction[0]==1):\n",
    "    print('Ham Mail')\n",
    "else:\n",
    "    print('Spam Mail')\n"
   ]
  },
  {
   "cell_type": "code",
   "execution_count": null,
   "id": "4da40f60-bbf4-4c04-ba52-7a2a5ed1e1cb",
   "metadata": {},
   "outputs": [],
   "source": []
  }
 ],
 "metadata": {
  "kernelspec": {
   "display_name": "Python 3 (ipykernel)",
   "language": "python",
   "name": "python3"
  },
  "language_info": {
   "codemirror_mode": {
    "name": "ipython",
    "version": 3
   },
   "file_extension": ".py",
   "mimetype": "text/x-python",
   "name": "python",
   "nbconvert_exporter": "python",
   "pygments_lexer": "ipython3",
   "version": "3.11.7"
  }
 },
 "nbformat": 4,
 "nbformat_minor": 5
}
